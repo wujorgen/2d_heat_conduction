{
 "cells": [
  {
   "cell_type": "markdown",
   "metadata": {},
   "source": [
    "Following along with:\n",
    "\n",
    "https://drzgan.github.io/Python_CFD/15.%20Cavity%20flow%20with%20Naiver-Stokes%20equation.html\n",
    "\n",
    "This is step 13.1"
   ]
  },
  {
   "cell_type": "markdown",
   "metadata": {},
   "source": [
    "Using a direct poisson pressure coupling method:\n",
    "\n",
    "\\begin{equation*}\n",
    "\\frac{\\partial{u}}{\\partial{t}} + u \\frac{\\partial{u}}{\\partial{x}} + v \\frac{\\partial{u}}{\\partial{y}} = - \\frac{1}{\\rho} \\frac{\\partial{p}}{\\partial{x}} + \\mu \\left(\\frac{\\partial^2{u}}{\\partial{x}^2} + \\frac{\\partial^2{u}}{\\partial{y^2}}\\right)\n",
    "\\end{equation*}\n",
    "\n",
    "\\begin{equation*}\n",
    "\\frac{\\partial{v}}{\\partial{t}} + u \\frac{\\partial{v}}{\\partial{x}} + v \\frac{\\partial{v}}{\\partial{y}} = - \\frac{1}{\\rho} \\frac{\\partial{p}}{\\partial{y}} + \\mu \\left(\\frac{\\partial^2{v}}{\\partial{x}^2} + \\frac{\\partial^2{v}}{\\partial{y^2}}\\right)\n",
    "\\end{equation*}\n",
    "\n",
    "\\begin{equation*}\n",
    "\\frac{\\partial^2 p}{\\partial x^2}+\\frac{\\partial^2 p}{\\partial y^2} = \\rho\\left(\\frac{\\partial}{\\partial t}\\left(\\frac{\\partial u}{\\partial x} +\\frac{\\partial v}{\\partial y} \\right) - \\frac{\\partial u}{\\partial x}\\frac{\\partial u}{\\partial x}-2\\frac{\\partial u}{\\partial y}\\frac{\\partial v}{\\partial x}-\\frac{\\partial v}{\\partial y}\\frac{\\partial v}{\\partial y} \\right)\n",
    "\\end{equation*}"
   ]
  },
  {
   "cell_type": "markdown",
   "metadata": {
    "vscode": {
     "languageId": "plaintext"
    }
   },
   "source": [
    "Rearranging the momentum equations:\n",
    "\n",
    "\\begin{equation*}\n",
    "\\frac{\\partial{u}}{\\partial{t}} = - u \\frac{\\partial{u}}{\\partial{x}} - v \\frac{\\partial{u}}{\\partial{y}} - \\frac{1}{\\rho} \\frac{\\partial{p}}{\\partial{x}} + \\mu \\left(\\frac{\\partial^2{u}}{\\partial{x}^2} + \\frac{\\partial^2{u}}{\\partial{y^2}}\\right)\n",
    "\\end{equation*}\n",
    "\n",
    "\\begin{equation*}\n",
    "\\frac{\\partial{v}}{\\partial{t}} = - u \\frac{\\partial{v}}{\\partial{x}} - v \\frac{\\partial{v}}{\\partial{y}} - \\frac{1}{\\rho} \\frac{\\partial{p}}{\\partial{y}} + \\mu \\left(\\frac{\\partial^2{v}}{\\partial{x}^2} + \\frac{\\partial^2{v}}{\\partial{y^2}}\\right)\n",
    "\\end{equation*}\n",
    "\n",
    "For this exercise, we will use:\n",
    "- explicit time step\n",
    "- backwards difference for convection terms\n",
    "- second order centered difference for diffusion terms\n",
    "\n",
    "That is copy and pasted below from the example notebook since i'm not retyping all of that.\n",
    "\n",
    "\\begin{split}\n",
    "\\begin{split}\n",
    "u_{i,j}^{n+1} = u_{i,j}^{n} & - u_{i,j}^{n} \\frac{\\Delta t}{\\Delta x} \\left(u_{i,j}^{n}-u_{i-1,j}^{n}\\right) - v_{i,j}^{n} \\frac{\\Delta t}{\\Delta y} \\left(u_{i,j}^{n}-u_{i,j-1}^{n}\\right) \\\\\n",
    "& - \\frac{\\Delta t}{\\rho 2\\Delta x} \\left(p_{i+1,j}^{n}-p_{i-1,j}^{n}\\right) \\\\\n",
    "& + \\nu \\left(\\frac{\\Delta t}{\\Delta x^2} \\left(u_{i+1,j}^{n}-2u_{i,j}^{n}+u_{i-1,j}^{n}\\right) + \\frac{\\Delta t}{\\Delta y^2} \\left(u_{i,j+1}^{n}-2u_{i,j}^{n}+u_{i,j-1}^{n}\\right)\\right)\n",
    "\\end{split}\n",
    "\\end{split}\n",
    "\n",
    "\\begin{split}\n",
    "\\begin{split}\n",
    "v_{i,j}^{n+1} = v_{i,j}^{n} & - u_{i,j}^{n} \\frac{\\Delta t}{\\Delta x} \\left(v_{i,j}^{n}-v_{i-1,j}^{n}\\right) - v_{i,j}^{n} \\frac{\\Delta t}{\\Delta y} \\left(v_{i,j}^{n}-v_{i,j-1}^{n})\\right) \\\\\n",
    "& - \\frac{\\Delta t}{\\rho 2\\Delta y} \\left(p_{i,j+1}^{n}-p_{i,j-1}^{n}\\right) \\\\\n",
    "& + \\nu \\left(\\frac{\\Delta t}{\\Delta x^2} \\left(v_{i+1,j}^{n}-2v_{i,j}^{n}+v_{i-1,j}^{n}\\right) + \\frac{\\Delta t}{\\Delta y^2} \\left(v_{i,j+1}^{n}-2v_{i,j}^{n}+v_{i,j-1}^{n}\\right)\\right)\n",
    "\\end{split}\n",
    "\\end{split}\n",
    "\n",
    "\\begin{split}\n",
    "\\begin{split}\n",
    "p_{i,j}^{n} = & \\frac{\\left(p_{i+1,j}^{n}+p_{i-1,j}^{n}\\right) \\Delta y^2 + \\left(p_{i,j+1}^{n}+p_{i,j-1}^{n}\\right) \\Delta x^2}{2\\left(\\Delta x^2+\\Delta y^2\\right)} \\\\\n",
    "& -\\frac{\\rho\\Delta x^2\\Delta y^2}{2\\left(\\Delta x^2+\\Delta y^2\\right)} \\\\\n",
    "& \\times \\left[\\frac{1}{\\Delta t}\\left(\\frac{u_{i+1,j}-u_{i-1,j}}{2\\Delta x}+\\frac{v_{i,j+1}-v_{i,j-1}}{2\\Delta y}\\right)-\\frac{u_{i+1,j}-u_{i-1,j}}{2\\Delta x}\\frac{u_{i+1,j}-u_{i-1,j}}{2\\Delta x} -2\\frac{u_{i,j+1}-u_{i,j-1}}{2\\Delta y}\\frac{v_{i+1,j}-v_{i-1,j}}{2\\Delta x}-\\frac{v_{i,j+1}-v_{i,j-1}}{2\\Delta y}\\frac{v_{i,j+1}-v_{i,j-1}}{2\\Delta y}\\right]\n",
    "\\end{split}\n",
    "\\end{split}"
   ]
  },
  {
   "cell_type": "code",
   "execution_count": 2,
   "metadata": {},
   "outputs": [],
   "source": [
    "import numpy as np\n",
    "from matplotlib import pyplot as plt, cm\n",
    "from mpl_toolkits.mplot3d import Axes3D"
   ]
  },
  {
   "cell_type": "code",
   "execution_count": 3,
   "metadata": {},
   "outputs": [
    {
     "name": "stdout",
     "output_type": "stream",
     "text": [
      "Reynold's number = 100.0\n"
     ]
    }
   ],
   "source": [
    "nx = 42\n",
    "ny = 42\n",
    "nt = 500 \n",
    "nit = 50\n",
    "c = 1\n",
    "length = 1\n",
    "dx = length / (nx-1)\n",
    "dy = length / (ny-1)\n",
    "x = np.linspace(0,length,nx)\n",
    "y = np.linspace(0,length,ny)\n",
    "X, Y = np.meshgrid(x, y)\n",
    "\n",
    "rho = 1\n",
    "mu = 0.01\n",
    "dt = 0.001\n",
    "\n",
    "u = np.zeros((ny,nx))\n",
    "v = np.zeros((ny,nx))\n",
    "p = np.zeros((ny,nx))\n",
    "b = np.zeros((ny,nx))\n",
    "\n",
    "print(\"Reynold's number =\", rho*c*length/mu)"
   ]
  },
  {
   "cell_type": "code",
   "execution_count": null,
   "metadata": {},
   "outputs": [],
   "source": [
    "# make some helper functions so it doesnt look like total shit\n",
    "\n",
    "def build_up_b(b, rho, dt, u, v, dx, dy):\n",
    "    "
   ]
  }
 ],
 "metadata": {
  "kernelspec": {
   "display_name": "venv",
   "language": "python",
   "name": "python3"
  },
  "language_info": {
   "codemirror_mode": {
    "name": "ipython",
    "version": 3
   },
   "file_extension": ".py",
   "mimetype": "text/x-python",
   "name": "python",
   "nbconvert_exporter": "python",
   "pygments_lexer": "ipython3",
   "version": "3.12.3"
  }
 },
 "nbformat": 4,
 "nbformat_minor": 2
}
