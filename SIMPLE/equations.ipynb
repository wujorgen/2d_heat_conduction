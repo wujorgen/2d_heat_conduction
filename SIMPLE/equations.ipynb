{
 "cells": [
  {
   "cell_type": "code",
   "execution_count": 55,
   "metadata": {},
   "outputs": [],
   "source": [
    "import sympy\n",
    "\n",
    "from IPython.display import display, Math\n",
    "\n",
    "lprint = lambda x: display(Math(sympy.latex(x)))"
   ]
  },
  {
   "cell_type": "code",
   "execution_count": 88,
   "metadata": {},
   "outputs": [],
   "source": [
    "u_p, u_p_old, u_e, u_w, u_n, u_s = sympy.symbols(\"u_p, u_p^{old}, u_e, u_w, u_n, u_s\")\n",
    "v_p, v_p_old, v_e, v_w, v_n, v_s = sympy.symbols(\"v_p, v_p^{old}, v_e, v_w, v_n, v_s\")\n",
    "u_ij, u_ij_old, u_ij1, u_ijn1, u_i1j, u_in1j = sympy.symbols(r\"u_{i\\,j}, u_{i\\,j}^{old} u_{i\\,j+1}, u_{i\\,j-1}, u_{i+1\\,j}, u_{i-1\\,j}\")\n",
    "\n",
    "dt, dx, dy = sympy.symbols(\"dt, dx, dy\")\n",
    "\n",
    "rho, mu = sympy.symbols(\"rho, mu\")\n",
    "\n",
    "P_p, P_e, P_w, P_n, P_s = sympy.symbols(\"P_p, P_e, P_w, P_n, P_s\")\n",
    "P_ij, P_ij1, P_ijn1, P_i1j, P_in1j = sympy.symbols(r\"P_{i\\,j}, P_{i\\,j+1}, P_{i\\,j-1}, P_{i+1\\,j}, P_{i-1\\,j}\")"
   ]
  },
  {
   "cell_type": "code",
   "execution_count": 91,
   "metadata": {},
   "outputs": [
    {
     "data": {
      "text/latex": [
       "$\\displaystyle dx \\left(\\frac{v_{n} \\left(u_{i,j} + u_{i-1,j}\\right)}{2} - \\frac{v_{s} \\left(u_{i+1,j} + u_{i,j}\\right)}{2}\\right) + dy \\left(\\frac{u_{e} \\left(u_{i,j+1} + u_{i,j}\\right)}{2} - \\frac{u_{w} \\left(u_{i,j-1} + u_{i,j}\\right)}{2}\\right) + \\frac{dx dy \\left(u_{i,j} - u_{i,j}^{old}\\right)}{dt}$"
      ],
      "text/plain": [
       "<IPython.core.display.Math object>"
      ]
     },
     "metadata": {},
     "output_type": "display_data"
    },
    {
     "data": {
      "text/latex": [
       "$\\displaystyle - \\frac{dy \\left(P_{i,j+1} - P_{i,j}\\right)}{\\rho} + \\frac{\\mu \\left(dx \\left(\\frac{- u_{i,j} + u_{i-1,j}}{dy} - \\frac{u_{i,j} - u_{i-1,j}}{dy}\\right) + dy \\left(\\frac{u_{i,j+1} - u_{i,j}}{dx} - \\frac{- u_{i,j-1} + u_{i,j}}{dx}\\right)\\right)}{\\rho}$"
      ],
      "text/plain": [
       "<IPython.core.display.Math object>"
      ]
     },
     "metadata": {},
     "output_type": "display_data"
    }
   ],
   "source": [
    "u_momo_lhs = (u_ij - u_ij_old)*dx*dy/dt + (u_e*(u_ij+u_ij1)/2 - u_w*(u_ij + u_ijn1)/2)*dy + (v_n*(u_ij+u_in1j)/2 - v_s*(u_ij+u_i1j)/2)*dx\n",
    "\n",
    "u_momo_rhs = -1/rho*(P_ij1 - P_ij)*dy + mu/rho*(\n",
    "    ((u_in1j - u_ij)/dy - (u_ij - u_in1j)/dy)*dx + ((u_ij1 - u_ij)/dx - (u_ij - u_ijn1)/dx)*dy\n",
    ")\n",
    "\n",
    "lprint(u_momo_lhs)\n",
    "lprint(u_momo_rhs)"
   ]
  },
  {
   "cell_type": "code",
   "execution_count": 101,
   "metadata": {},
   "outputs": [
    {
     "data": {
      "text/latex": [
       "$\\displaystyle dx \\left(\\frac{v_{n} \\left(u_{i,j} + u_{i-1,j}\\right)}{2} - \\frac{v_{s} \\left(u_{i+1,j} + u_{i,j}\\right)}{2}\\right) + dy \\left(\\frac{u_{e} \\left(u_{i,j+1} + u_{i,j}\\right)}{2} - \\frac{u_{w} \\left(u_{i,j-1} + u_{i,j}\\right)}{2}\\right) + \\frac{dx dy \\left(u_{i,j} - u_{i,j}^{old}\\right)}{dt} = - \\frac{dy \\left(P_{i,j+1} - P_{i,j}\\right)}{\\rho} + \\frac{\\mu \\left(dx \\left(\\frac{- u_{i,j} + u_{i-1,j}}{dy} - \\frac{u_{i,j} - u_{i-1,j}}{dy}\\right) + dy \\left(\\frac{u_{i,j+1} - u_{i,j}}{dx} - \\frac{- u_{i,j-1} + u_{i,j}}{dx}\\right)\\right)}{\\rho}$"
      ],
      "text/plain": [
       "<IPython.core.display.Math object>"
      ]
     },
     "metadata": {},
     "output_type": "display_data"
    }
   ],
   "source": [
    "u_momo_eq = sympy.Eq(u_momo_lhs, u_momo_rhs)\n",
    "lprint(u_momo_eq)\n"
   ]
  }
 ],
 "metadata": {
  "kernelspec": {
   "display_name": "venv",
   "language": "python",
   "name": "python3"
  },
  "language_info": {
   "codemirror_mode": {
    "name": "ipython",
    "version": 3
   },
   "file_extension": ".py",
   "mimetype": "text/x-python",
   "name": "python",
   "nbconvert_exporter": "python",
   "pygments_lexer": "ipython3",
   "version": "3.12.3"
  }
 },
 "nbformat": 4,
 "nbformat_minor": 2
}
