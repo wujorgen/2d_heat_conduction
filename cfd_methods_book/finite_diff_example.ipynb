{
 "cells": [
  {
   "cell_type": "markdown",
   "id": "f4ba4fa8",
   "metadata": {},
   "source": [
    "\\begin{split}\n",
    "\\frac{\\partial (\\rho u \\phi)}{\\partial x} = \\frac{\\partial}{\\partial x} \\left( \\Gamma \\frac{\\partial \\phi}{\\partial x} \\right)\n",
    "\\end{split}\n",
    "\n",
    "With Direchlet boundary conditions, $\\phi(x=0)=\\phi_0$ and $\\phi(x=L)=\\phi_L$\n",
    "\n",
    "Exact analytical solution:\n",
    "\\begin{split}\n",
    "\\phi = \\phi_0 + \\frac{\\exp(x Pe / L)-1}{\\exp(Pe) - 1}(\\phi_L - \\phi_0)\n",
    "\\end{split}"
   ]
  },
  {
   "cell_type": "markdown",
   "id": "bf4ae9d2",
   "metadata": {},
   "source": [
    "Discretize the as follows, assuming grid points are equally spaced:\n",
    "\\begin{split}\n",
    "\\rho u \\frac{\\phi_{i+1} - \\phi_{i-1}}{2\\Delta x} = \\Gamma \\frac{\\phi_{i+1} - 2\\phi_i + \\phi_{i-1}}{(\\Delta x)^2}\n",
    "\\end{split}"
   ]
  },
  {
   "cell_type": "markdown",
   "id": "98afe625",
   "metadata": {},
   "source": [
    "Rearrange to form linear system $\\mathbf{A} \\vec{x}=\\vec{b}$:\n",
    "\n",
    "\\begin{split}\n",
    "\\phi_{i+1} \\left( \\frac{\\rho u}{2\\Delta x} - \\frac{\\Gamma}{(\\Delta x)^2} \\right)\n",
    "+ \\phi_i \\left( \\frac{2 \\Gamma}{(\\Delta x)^2} \\right)\n",
    "+ \\phi_{i-1} \\left( - \\frac{\\rho u}{2\\Delta x} - \\frac{\\Gamma}{(\\Delta x)^2} \\right)\n",
    "= 0\n",
    "\\end{split}"
   ]
  },
  {
   "cell_type": "code",
   "execution_count": 90,
   "id": "496509e2",
   "metadata": {},
   "outputs": [],
   "source": [
    "import matplotlib.pyplot as plt\n",
    "import numpy as np\n",
    "import scipy"
   ]
  },
  {
   "cell_type": "code",
   "execution_count": 91,
   "id": "38eebd7f",
   "metadata": {},
   "outputs": [
    {
     "name": "stdout",
     "output_type": "stream",
     "text": [
      "dx: 0.03333333333333333\n",
      "Pe: 10.0\n"
     ]
    }
   ],
   "source": [
    "# oscillatory solution can be observed at coarse grids and high peclet number\n",
    "L = 1.0\n",
    "N = 31\n",
    "dx = L / (N - 1)\n",
    "print(\"dx:\", dx)\n",
    "rho = 1.0\n",
    "u = 1.0\n",
    "Gamma = 0.1\n",
    "phi_0 = 0.0\n",
    "phi_L = 1.0\n",
    "\n",
    "Pe = rho * u * L / Gamma\n",
    "print(\"Pe:\", Pe)"
   ]
  },
  {
   "cell_type": "code",
   "execution_count": 92,
   "id": "96137073",
   "metadata": {},
   "outputs": [],
   "source": [
    "grid_exact = np.linspace(0, 1, 101)\n",
    "solution_exact = phi_0 + (np.exp(grid_exact * Pe / L) - 1) / (np.exp(Pe) - 1) * (phi_L - phi_0)"
   ]
  },
  {
   "cell_type": "code",
   "execution_count": 93,
   "id": "451f48eb",
   "metadata": {},
   "outputs": [],
   "source": [
    "grid = np.linspace(0, 1, N)"
   ]
  },
  {
   "cell_type": "code",
   "execution_count": 94,
   "id": "5657feed",
   "metadata": {},
   "outputs": [
    {
     "data": {
      "text/plain": [
       "array([[   1.,    0.,    0.,    0.,    0.,    0.,    0.,    0.,    0.,\n",
       "           0.,    0.,    0.,    0.,    0.,    0.,    0.,    0.,    0.,\n",
       "           0.,    0.,    0.,    0.,    0.,    0.,    0.,    0.,    0.,\n",
       "           0.,    0.,    0.,    0.],\n",
       "       [-105.,  180.,  -75.,    0.,    0.,    0.,    0.,    0.,    0.,\n",
       "           0.,    0.,    0.,    0.,    0.,    0.,    0.,    0.,    0.,\n",
       "           0.,    0.,    0.,    0.,    0.,    0.,    0.,    0.,    0.,\n",
       "           0.,    0.,    0.,    0.],\n",
       "       [   0., -105.,  180.,  -75.,    0.,    0.,    0.,    0.,    0.,\n",
       "           0.,    0.,    0.,    0.,    0.,    0.,    0.,    0.,    0.,\n",
       "           0.,    0.,    0.,    0.,    0.,    0.,    0.,    0.,    0.,\n",
       "           0.,    0.,    0.,    0.],\n",
       "       [   0.,    0., -105.,  180.,  -75.,    0.,    0.,    0.,    0.,\n",
       "           0.,    0.,    0.,    0.,    0.,    0.,    0.,    0.,    0.,\n",
       "           0.,    0.,    0.,    0.,    0.,    0.,    0.,    0.,    0.,\n",
       "           0.,    0.,    0.,    0.],\n",
       "       [   0.,    0.,    0., -105.,  180.,  -75.,    0.,    0.,    0.,\n",
       "           0.,    0.,    0.,    0.,    0.,    0.,    0.,    0.,    0.,\n",
       "           0.,    0.,    0.,    0.,    0.,    0.,    0.,    0.,    0.,\n",
       "           0.,    0.,    0.,    0.],\n",
       "       [   0.,    0.,    0.,    0., -105.,  180.,  -75.,    0.,    0.,\n",
       "           0.,    0.,    0.,    0.,    0.,    0.,    0.,    0.,    0.,\n",
       "           0.,    0.,    0.,    0.,    0.,    0.,    0.,    0.,    0.,\n",
       "           0.,    0.,    0.,    0.],\n",
       "       [   0.,    0.,    0.,    0.,    0., -105.,  180.,  -75.,    0.,\n",
       "           0.,    0.,    0.,    0.,    0.,    0.,    0.,    0.,    0.,\n",
       "           0.,    0.,    0.,    0.,    0.,    0.,    0.,    0.,    0.,\n",
       "           0.,    0.,    0.,    0.],\n",
       "       [   0.,    0.,    0.,    0.,    0.,    0., -105.,  180.,  -75.,\n",
       "           0.,    0.,    0.,    0.,    0.,    0.,    0.,    0.,    0.,\n",
       "           0.,    0.,    0.,    0.,    0.,    0.,    0.,    0.,    0.,\n",
       "           0.,    0.,    0.,    0.],\n",
       "       [   0.,    0.,    0.,    0.,    0.,    0.,    0., -105.,  180.,\n",
       "         -75.,    0.,    0.,    0.,    0.,    0.,    0.,    0.,    0.,\n",
       "           0.,    0.,    0.,    0.,    0.,    0.,    0.,    0.,    0.,\n",
       "           0.,    0.,    0.,    0.],\n",
       "       [   0.,    0.,    0.,    0.,    0.,    0.,    0.,    0., -105.,\n",
       "         180.,  -75.,    0.,    0.,    0.,    0.,    0.,    0.,    0.,\n",
       "           0.,    0.,    0.,    0.,    0.,    0.,    0.,    0.,    0.,\n",
       "           0.,    0.,    0.,    0.],\n",
       "       [   0.,    0.,    0.,    0.,    0.,    0.,    0.,    0.,    0.,\n",
       "        -105.,  180.,  -75.,    0.,    0.,    0.,    0.,    0.,    0.,\n",
       "           0.,    0.,    0.,    0.,    0.,    0.,    0.,    0.,    0.,\n",
       "           0.,    0.,    0.,    0.],\n",
       "       [   0.,    0.,    0.,    0.,    0.,    0.,    0.,    0.,    0.,\n",
       "           0., -105.,  180.,  -75.,    0.,    0.,    0.,    0.,    0.,\n",
       "           0.,    0.,    0.,    0.,    0.,    0.,    0.,    0.,    0.,\n",
       "           0.,    0.,    0.,    0.],\n",
       "       [   0.,    0.,    0.,    0.,    0.,    0.,    0.,    0.,    0.,\n",
       "           0.,    0., -105.,  180.,  -75.,    0.,    0.,    0.,    0.,\n",
       "           0.,    0.,    0.,    0.,    0.,    0.,    0.,    0.,    0.,\n",
       "           0.,    0.,    0.,    0.],\n",
       "       [   0.,    0.,    0.,    0.,    0.,    0.,    0.,    0.,    0.,\n",
       "           0.,    0.,    0., -105.,  180.,  -75.,    0.,    0.,    0.,\n",
       "           0.,    0.,    0.,    0.,    0.,    0.,    0.,    0.,    0.,\n",
       "           0.,    0.,    0.,    0.],\n",
       "       [   0.,    0.,    0.,    0.,    0.,    0.,    0.,    0.,    0.,\n",
       "           0.,    0.,    0.,    0., -105.,  180.,  -75.,    0.,    0.,\n",
       "           0.,    0.,    0.,    0.,    0.,    0.,    0.,    0.,    0.,\n",
       "           0.,    0.,    0.,    0.],\n",
       "       [   0.,    0.,    0.,    0.,    0.,    0.,    0.,    0.,    0.,\n",
       "           0.,    0.,    0.,    0.,    0., -105.,  180.,  -75.,    0.,\n",
       "           0.,    0.,    0.,    0.,    0.,    0.,    0.,    0.,    0.,\n",
       "           0.,    0.,    0.,    0.],\n",
       "       [   0.,    0.,    0.,    0.,    0.,    0.,    0.,    0.,    0.,\n",
       "           0.,    0.,    0.,    0.,    0.,    0., -105.,  180.,  -75.,\n",
       "           0.,    0.,    0.,    0.,    0.,    0.,    0.,    0.,    0.,\n",
       "           0.,    0.,    0.,    0.],\n",
       "       [   0.,    0.,    0.,    0.,    0.,    0.,    0.,    0.,    0.,\n",
       "           0.,    0.,    0.,    0.,    0.,    0.,    0., -105.,  180.,\n",
       "         -75.,    0.,    0.,    0.,    0.,    0.,    0.,    0.,    0.,\n",
       "           0.,    0.,    0.,    0.],\n",
       "       [   0.,    0.,    0.,    0.,    0.,    0.,    0.,    0.,    0.,\n",
       "           0.,    0.,    0.,    0.,    0.,    0.,    0.,    0., -105.,\n",
       "         180.,  -75.,    0.,    0.,    0.,    0.,    0.,    0.,    0.,\n",
       "           0.,    0.,    0.,    0.],\n",
       "       [   0.,    0.,    0.,    0.,    0.,    0.,    0.,    0.,    0.,\n",
       "           0.,    0.,    0.,    0.,    0.,    0.,    0.,    0.,    0.,\n",
       "        -105.,  180.,  -75.,    0.,    0.,    0.,    0.,    0.,    0.,\n",
       "           0.,    0.,    0.,    0.],\n",
       "       [   0.,    0.,    0.,    0.,    0.,    0.,    0.,    0.,    0.,\n",
       "           0.,    0.,    0.,    0.,    0.,    0.,    0.,    0.,    0.,\n",
       "           0., -105.,  180.,  -75.,    0.,    0.,    0.,    0.,    0.,\n",
       "           0.,    0.,    0.,    0.],\n",
       "       [   0.,    0.,    0.,    0.,    0.,    0.,    0.,    0.,    0.,\n",
       "           0.,    0.,    0.,    0.,    0.,    0.,    0.,    0.,    0.,\n",
       "           0.,    0., -105.,  180.,  -75.,    0.,    0.,    0.,    0.,\n",
       "           0.,    0.,    0.,    0.],\n",
       "       [   0.,    0.,    0.,    0.,    0.,    0.,    0.,    0.,    0.,\n",
       "           0.,    0.,    0.,    0.,    0.,    0.,    0.,    0.,    0.,\n",
       "           0.,    0.,    0., -105.,  180.,  -75.,    0.,    0.,    0.,\n",
       "           0.,    0.,    0.,    0.],\n",
       "       [   0.,    0.,    0.,    0.,    0.,    0.,    0.,    0.,    0.,\n",
       "           0.,    0.,    0.,    0.,    0.,    0.,    0.,    0.,    0.,\n",
       "           0.,    0.,    0.,    0., -105.,  180.,  -75.,    0.,    0.,\n",
       "           0.,    0.,    0.,    0.],\n",
       "       [   0.,    0.,    0.,    0.,    0.,    0.,    0.,    0.,    0.,\n",
       "           0.,    0.,    0.,    0.,    0.,    0.,    0.,    0.,    0.,\n",
       "           0.,    0.,    0.,    0.,    0., -105.,  180.,  -75.,    0.,\n",
       "           0.,    0.,    0.,    0.],\n",
       "       [   0.,    0.,    0.,    0.,    0.,    0.,    0.,    0.,    0.,\n",
       "           0.,    0.,    0.,    0.,    0.,    0.,    0.,    0.,    0.,\n",
       "           0.,    0.,    0.,    0.,    0.,    0., -105.,  180.,  -75.,\n",
       "           0.,    0.,    0.,    0.],\n",
       "       [   0.,    0.,    0.,    0.,    0.,    0.,    0.,    0.,    0.,\n",
       "           0.,    0.,    0.,    0.,    0.,    0.,    0.,    0.,    0.,\n",
       "           0.,    0.,    0.,    0.,    0.,    0.,    0., -105.,  180.,\n",
       "         -75.,    0.,    0.,    0.],\n",
       "       [   0.,    0.,    0.,    0.,    0.,    0.,    0.,    0.,    0.,\n",
       "           0.,    0.,    0.,    0.,    0.,    0.,    0.,    0.,    0.,\n",
       "           0.,    0.,    0.,    0.,    0.,    0.,    0.,    0., -105.,\n",
       "         180.,  -75.,    0.,    0.],\n",
       "       [   0.,    0.,    0.,    0.,    0.,    0.,    0.,    0.,    0.,\n",
       "           0.,    0.,    0.,    0.,    0.,    0.,    0.,    0.,    0.,\n",
       "           0.,    0.,    0.,    0.,    0.,    0.,    0.,    0.,    0.,\n",
       "        -105.,  180.,  -75.,    0.],\n",
       "       [   0.,    0.,    0.,    0.,    0.,    0.,    0.,    0.,    0.,\n",
       "           0.,    0.,    0.,    0.,    0.,    0.,    0.,    0.,    0.,\n",
       "           0.,    0.,    0.,    0.,    0.,    0.,    0.,    0.,    0.,\n",
       "           0., -105.,  180.,  -75.],\n",
       "       [   0.,    0.,    0.,    0.,    0.,    0.,    0.,    0.,    0.,\n",
       "           0.,    0.,    0.,    0.,    0.,    0.,    0.,    0.,    0.,\n",
       "           0.,    0.,    0.,    0.,    0.,    0.,    0.,    0.,    0.,\n",
       "           0.,    0.,    0.,    1.]])"
      ]
     },
     "execution_count": 94,
     "metadata": {},
     "output_type": "execute_result"
    }
   ],
   "source": [
    "# build system matrix [A]\n",
    "A = np.zeros((N,N))\n",
    "\n",
    "for i in range(1, N-1):\n",
    "    A[i, i - 1] = - (rho * u) / (2 * dx) - Gamma / (dx**2)\n",
    "    A[i, i] = 2 * Gamma / (dx**2)\n",
    "    A[i, i + 1] = (rho * u) / (2 * dx) - Gamma / (dx**2)\n",
    "\n",
    "A[0, 0] = 1\n",
    "A[N-1, N-1] = 1\n",
    "\n",
    "A"
   ]
  },
  {
   "cell_type": "code",
   "execution_count": 95,
   "id": "60e29976",
   "metadata": {},
   "outputs": [
    {
     "data": {
      "text/plain": [
       "array([0., 0., 0., 0., 0., 0., 0., 0., 0., 0., 0., 0., 0., 0., 0., 0., 0.,\n",
       "       0., 0., 0., 0., 0., 0., 0., 0., 0., 0., 0., 0., 0., 1.])"
      ]
     },
     "execution_count": 95,
     "metadata": {},
     "output_type": "execute_result"
    }
   ],
   "source": [
    "# build RHS vector [b]\n",
    "b = np.zeros(N)\n",
    "\n",
    "b[0] = phi_0\n",
    "b[N-1] = phi_L\n",
    "\n",
    "b"
   ]
  },
  {
   "cell_type": "code",
   "execution_count": 96,
   "id": "a0ead0ad",
   "metadata": {},
   "outputs": [
    {
     "data": {
      "text/plain": [
       "array([-9.70214344e-13,  1.65286293e-05,  3.96687118e-05,  7.20648272e-05,\n",
       "        1.17419389e-04,  1.80915775e-04,  2.69810716e-04,  3.94263633e-04,\n",
       "        5.68497717e-04,  8.12425434e-04,  1.15392424e-03,  1.63202256e-03,\n",
       "        2.30136022e-03,  3.23843294e-03,  4.55033475e-03,  6.38699728e-03,\n",
       "        8.95832482e-03,  1.25581834e-02,  1.75979854e-02,  2.46537081e-02,\n",
       "        3.45317200e-02,  4.83609366e-02,  6.77218399e-02,  9.48271045e-02,\n",
       "        1.32774475e-01,  1.85900794e-01,  2.60277640e-01,  3.64405224e-01,\n",
       "        5.10183842e-01,  7.14273908e-01,  1.00000000e+00])"
      ]
     },
     "execution_count": 96,
     "metadata": {},
     "output_type": "execute_result"
    }
   ],
   "source": [
    "# solve for solution vector [x]\n",
    "x = np.linalg.inv(A.T @ A) @ A.T @ b\n",
    "\n",
    "x"
   ]
  },
  {
   "cell_type": "code",
   "execution_count": 97,
   "id": "a12cf53a",
   "metadata": {},
   "outputs": [
    {
     "data": {
      "text/plain": [
       "[<matplotlib.lines.Line2D at 0x7fd54d2019a0>]"
      ]
     },
     "execution_count": 97,
     "metadata": {},
     "output_type": "execute_result"
    },
    {
     "data": {
      "image/png": "[encoded data removed]",
      "text/plain": [
       "<Figure size 640x480 with 1 Axes>"
      ]
     },
     "metadata": {},
     "output_type": "display_data"
    }
   ],
   "source": [
    "plt.plot(grid_exact, solution_exact)\n",
    "plt.plot(grid, x, linestyle=\"--\")"
   ]
  }
 ],
 "metadata": {
  "kernelspec": {
   "display_name": "venv",
   "language": "python",
   "name": "python3"
  },
  "language_info": {
   "codemirror_mode": {
    "name": "ipython",
    "version": 3
   },
   "file_extension": ".py",
   "mimetype": "text/x-python",
   "name": "python",
   "nbconvert_exporter": "python",
   "pygments_lexer": "ipython3",
   "version": "3.12.3"
  }
 },
 "nbformat": 4,
 "nbformat_minor": 5
}
